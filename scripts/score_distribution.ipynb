{
 "cells": [
  {
   "cell_type": "code",
   "execution_count": null,
   "metadata": {},
   "outputs": [
    {
     "name": "stderr",
     "output_type": "stream",
     "text": [
      "Processing CE scores: 100%|██████████| 808731/808731 [01:54<00:00, 7047.73it/s]\n",
      "Processing CE scores: 100%|██████████| 808731/808731 [01:12<00:00, 11084.34it/s]\n",
      "Processing CE scores: 100%|██████████| 808731/808731 [01:15<00:00, 10754.21it/s]\n",
      "100%|██████████| 808731/808731 [00:11<00:00, 70335.87it/s]\n",
      "100%|██████████| 808731/808731 [00:07<00:00, 103158.60it/s]\n",
      "100%|██████████| 808731/808731 [00:07<00:00, 108293.66it/s]\n"
     ]
    }
   ],
   "source": [
    "from argparse import ArgumentParser\n",
    "from collections import defaultdict\n",
    "import matplotlib.pyplot as plt\n",
    "import numpy as np\n",
    "import seaborn as sns\n",
    "from tqdm import tqdm\n",
    "import json\n",
    "import statistics\n",
    "import tqdm\n",
    "import gzip\n",
    "import pickle\n",
    "import os\n",
    "\n",
    "rankllamascore = defaultdict(dict)\n",
    "rankllamascore_affine = defaultdict(dict)\n",
    "\n",
    "def load_jsonl(file_path):\n",
    "    hard_negatives_scores = defaultdict(dict)\n",
    "    with gzip.open(file_path, \"r\") as f:\n",
    "        data = pickle.load(f)\n",
    "        for qid, scores in tqdm.tqdm(data.items(), desc=\"Processing CE scores\"):\n",
    "            for did, score in scores.items():\n",
    "                if did in hard_negatives_scores[str(qid)]:\n",
    "                    hard_negatives_scores[str(qid)][str(did)] = statistics.mean(float(score), hard_negatives_scores[str(qid)][str(did)])\n",
    "                else:\n",
    "                    hard_negatives_scores[str(qid)][str(did)] = float(score)\n",
    "    return hard_negatives_scores\n",
    "\n",
    "MiniLM_scores = load_jsonl(\"/ivi/ilps/personal/jqiao/lsr_eval/data/msmarco/hard_negatives_scores/cross-encoder-ms-marco-MiniLM-L-6-v2-scores.pkl.gz\")\n",
    "rankllamascore = load_jsonl(\"/ivi/ilps/personal/jqiao/lsr_eval/data/msmarco/hard_negatives_scores/rankllama-13b-ms-marco-scores.pkl.gz\")\n",
    "rankllamascore_affine = load_jsonl(\"/ivi/ilps/personal/jqiao/lsr_eval/data/msmarco/hard_negatives_scores/rankllama-13b-ms-marco-scores-corpus-affine.pkl.gz\")\n",
    "\n",
    "MiniLM_scores_list = [score for doc_scores in tqdm.tqdm(MiniLM_scores.values()) for score in doc_scores.values()]\n",
    "rankllamascore_list = [score for doc_scores in tqdm.tqdm(rankllamascore.values()) for score in doc_scores.values()]\n",
    "rankllamascore_affine_list = [score for doc_scores in tqdm.tqdm(rankllamascore_affine.values()) for score in doc_scores.values()]\n",
    "\n",
    "plt.figure(figsize=(12, 8))\n",
    "sns.histplot(MiniLM_scores_list, color=\"blue\", label=\"MiniLM Scores\", kde=True, stat=\"density\", bins=30)\n",
    "sns.histplot(rankllamascore_list, color=\"blue\", label=\"RankLlama Scores\", kde=True, stat=\"density\", bins=30)\n",
    "sns.histplot(rankllamascore_affine_list, color=\"blue\", label=\"RankLlama affine Scores\", kde=True, stat=\"density\", bins=30)\n",
    "\n",
    "plt.title('Comparison of Score Distributions')\n",
    "plt.xlabel('Score')\n",
    "plt.ylabel('Density')\n",
    "plt.legend()\n",
    "plt.savefig('score_distribution_plot.png')\n",
    "plt.show()"
   ]
  },
  {
   "cell_type": "code",
   "execution_count": null,
   "metadata": {},
   "outputs": [],
   "source": [
    "plt.figure(figsize=(12, 8))\n",
    "sns.histplot(MiniLM_scores_list, color=\"blue\", label=\"MiniLM Scores\", kde=True, stat=\"density\", bins=30)\n",
    "sns.histplot(rankllamascore_list, color=\"blue\", label=\"RankLlama Scores\", kde=True, stat=\"density\", bins=30)\n",
    "sns.histplot(rankllamascore_affine_list, color=\"blue\", label=\"RankLlama affine Scores\", kde=True, stat=\"density\", bins=30)\n",
    "\n",
    "plt.title('Comparison of Score Distributions')\n",
    "plt.xlabel('Score')\n",
    "plt.ylabel('Density')\n",
    "plt.legend()\n",
    "plt.savefig('score_distribution_plot.png')\n",
    "plt.show()"
   ]
  }
 ],
 "metadata": {
  "kernelspec": {
   "display_name": "base",
   "language": "python",
   "name": "python3"
  },
  "language_info": {
   "codemirror_mode": {
    "name": "ipython",
    "version": 3
   },
   "file_extension": ".py",
   "mimetype": "text/x-python",
   "name": "python",
   "nbconvert_exporter": "python",
   "pygments_lexer": "ipython3",
   "version": "3.10.12"
  }
 },
 "nbformat": 4,
 "nbformat_minor": 2
}
